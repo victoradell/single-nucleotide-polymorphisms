{
 "cells": [
  {
   "cell_type": "code",
   "execution_count": 12,
   "metadata": {},
   "outputs": [],
   "source": [
    "import pandas as pd\n",
    "import numpy as np\n",
    "import altair as alt"
   ]
  },
  {
   "cell_type": "code",
   "execution_count": 37,
   "metadata": {},
   "outputs": [],
   "source": [
    "df = pd.read_csv('../data/snp.csv')"
   ]
  },
  {
   "cell_type": "code",
   "execution_count": 38,
   "metadata": {},
   "outputs": [],
   "source": [
    "population = pd.read_csv('../data/population.csv', header=None)\n",
    "population = population.rename(columns={0: 'population'})\n",
    "\n",
    "gender = pd.read_csv('../data/gender.csv', header=None)\n",
    "gender = gender.rename(columns={0: 'gender'})"
   ]
  },
  {
   "cell_type": "code",
   "execution_count": 39,
   "metadata": {},
   "outputs": [],
   "source": [
    "df = df.join(population)"
   ]
  },
  {
   "cell_type": "code",
   "execution_count": 40,
   "metadata": {},
   "outputs": [
    {
     "data": {
      "text/html": [
       "<div>\n",
       "<style scoped>\n",
       "    .dataframe tbody tr th:only-of-type {\n",
       "        vertical-align: middle;\n",
       "    }\n",
       "\n",
       "    .dataframe tbody tr th {\n",
       "        vertical-align: top;\n",
       "    }\n",
       "\n",
       "    .dataframe thead th {\n",
       "        text-align: right;\n",
       "    }\n",
       "</style>\n",
       "<table border=\"1\" class=\"dataframe\">\n",
       "  <thead>\n",
       "    <tr style=\"text-align: right;\">\n",
       "      <th></th>\n",
       "      <th>Name</th>\n",
       "      <th>r0</th>\n",
       "      <th>r1</th>\n",
       "      <th>r2</th>\n",
       "      <th>r3</th>\n",
       "      <th>r4</th>\n",
       "      <th>r5</th>\n",
       "      <th>r6</th>\n",
       "      <th>r7</th>\n",
       "      <th>r8</th>\n",
       "      <th>...</th>\n",
       "      <th>r39099</th>\n",
       "      <th>r39100</th>\n",
       "      <th>r39101</th>\n",
       "      <th>r39102</th>\n",
       "      <th>r39103</th>\n",
       "      <th>r39104</th>\n",
       "      <th>r39105</th>\n",
       "      <th>r39106</th>\n",
       "      <th>r39107</th>\n",
       "      <th>population</th>\n",
       "    </tr>\n",
       "  </thead>\n",
       "  <tbody>\n",
       "    <tr>\n",
       "      <th>0</th>\n",
       "      <td>P11980</td>\n",
       "      <td>0</td>\n",
       "      <td>0</td>\n",
       "      <td>0</td>\n",
       "      <td>0</td>\n",
       "      <td>0</td>\n",
       "      <td>0</td>\n",
       "      <td>0</td>\n",
       "      <td>0</td>\n",
       "      <td>0</td>\n",
       "      <td>...</td>\n",
       "      <td>1</td>\n",
       "      <td>2</td>\n",
       "      <td>0</td>\n",
       "      <td>1</td>\n",
       "      <td>2</td>\n",
       "      <td>2</td>\n",
       "      <td>2</td>\n",
       "      <td>2</td>\n",
       "      <td>0</td>\n",
       "      <td>EthP</td>\n",
       "    </tr>\n",
       "    <tr>\n",
       "      <th>1</th>\n",
       "      <td>P638</td>\n",
       "      <td>0</td>\n",
       "      <td>0</td>\n",
       "      <td>0</td>\n",
       "      <td>0</td>\n",
       "      <td>0</td>\n",
       "      <td>0</td>\n",
       "      <td>0</td>\n",
       "      <td>0</td>\n",
       "      <td>0</td>\n",
       "      <td>...</td>\n",
       "      <td>2</td>\n",
       "      <td>1</td>\n",
       "      <td>1</td>\n",
       "      <td>0</td>\n",
       "      <td>1</td>\n",
       "      <td>1</td>\n",
       "      <td>2</td>\n",
       "      <td>1</td>\n",
       "      <td>2</td>\n",
       "      <td>EthP</td>\n",
       "    </tr>\n",
       "    <tr>\n",
       "      <th>2</th>\n",
       "      <td>P5939</td>\n",
       "      <td>0</td>\n",
       "      <td>0</td>\n",
       "      <td>0</td>\n",
       "      <td>0</td>\n",
       "      <td>0</td>\n",
       "      <td>0</td>\n",
       "      <td>0</td>\n",
       "      <td>0</td>\n",
       "      <td>0</td>\n",
       "      <td>...</td>\n",
       "      <td>0</td>\n",
       "      <td>1</td>\n",
       "      <td>0</td>\n",
       "      <td>0</td>\n",
       "      <td>1</td>\n",
       "      <td>0</td>\n",
       "      <td>2</td>\n",
       "      <td>2</td>\n",
       "      <td>1</td>\n",
       "      <td>EthP</td>\n",
       "    </tr>\n",
       "    <tr>\n",
       "      <th>3</th>\n",
       "      <td>P6402</td>\n",
       "      <td>0</td>\n",
       "      <td>0</td>\n",
       "      <td>0</td>\n",
       "      <td>0</td>\n",
       "      <td>0</td>\n",
       "      <td>0</td>\n",
       "      <td>0</td>\n",
       "      <td>0</td>\n",
       "      <td>0</td>\n",
       "      <td>...</td>\n",
       "      <td>1</td>\n",
       "      <td>1</td>\n",
       "      <td>0</td>\n",
       "      <td>2</td>\n",
       "      <td>1</td>\n",
       "      <td>1</td>\n",
       "      <td>2</td>\n",
       "      <td>1</td>\n",
       "      <td>2</td>\n",
       "      <td>EthP</td>\n",
       "    </tr>\n",
       "    <tr>\n",
       "      <th>4</th>\n",
       "      <td>P3888</td>\n",
       "      <td>0</td>\n",
       "      <td>0</td>\n",
       "      <td>0</td>\n",
       "      <td>0</td>\n",
       "      <td>0</td>\n",
       "      <td>0</td>\n",
       "      <td>0</td>\n",
       "      <td>0</td>\n",
       "      <td>0</td>\n",
       "      <td>...</td>\n",
       "      <td>2</td>\n",
       "      <td>1</td>\n",
       "      <td>1</td>\n",
       "      <td>2</td>\n",
       "      <td>2</td>\n",
       "      <td>2</td>\n",
       "      <td>1</td>\n",
       "      <td>0</td>\n",
       "      <td>1</td>\n",
       "      <td>EthP</td>\n",
       "    </tr>\n",
       "  </tbody>\n",
       "</table>\n",
       "<p>5 rows × 39110 columns</p>\n",
       "</div>"
      ],
      "text/plain": [
       "     Name  r0  r1  r2  r3  r4  r5  r6  r7  r8  ...  r39099  r39100  r39101  \\\n",
       "0  P11980   0   0   0   0   0   0   0   0   0  ...       1       2       0   \n",
       "1    P638   0   0   0   0   0   0   0   0   0  ...       2       1       1   \n",
       "2   P5939   0   0   0   0   0   0   0   0   0  ...       0       1       0   \n",
       "3   P6402   0   0   0   0   0   0   0   0   0  ...       1       1       0   \n",
       "4   P3888   0   0   0   0   0   0   0   0   0  ...       2       1       1   \n",
       "\n",
       "   r39102  r39103  r39104  r39105  r39106  r39107  population  \n",
       "0       1       2       2       2       2       0        EthP  \n",
       "1       0       1       1       2       1       2        EthP  \n",
       "2       0       1       0       2       2       1        EthP  \n",
       "3       2       1       1       2       1       2        EthP  \n",
       "4       2       2       2       1       0       1        EthP  \n",
       "\n",
       "[5 rows x 39110 columns]"
      ]
     },
     "execution_count": 40,
     "metadata": {},
     "output_type": "execute_result"
    }
   ],
   "source": [
    "df.head()"
   ]
  },
  {
   "cell_type": "code",
   "execution_count": 55,
   "metadata": {},
   "outputs": [
    {
     "data": {
      "text/html": [
       "<div>\n",
       "<style scoped>\n",
       "    .dataframe tbody tr th:only-of-type {\n",
       "        vertical-align: middle;\n",
       "    }\n",
       "\n",
       "    .dataframe tbody tr th {\n",
       "        vertical-align: top;\n",
       "    }\n",
       "\n",
       "    .dataframe thead th {\n",
       "        text-align: right;\n",
       "    }\n",
       "</style>\n",
       "<table border=\"1\" class=\"dataframe\">\n",
       "  <thead>\n",
       "    <tr style=\"text-align: right;\">\n",
       "      <th></th>\n",
       "      <th>population</th>\n",
       "      <th>allele</th>\n",
       "      <th>r39098</th>\n",
       "    </tr>\n",
       "  </thead>\n",
       "  <tbody>\n",
       "    <tr>\n",
       "      <th>0</th>\n",
       "      <td>EthA</td>\n",
       "      <td>1</td>\n",
       "      <td>54</td>\n",
       "    </tr>\n",
       "    <tr>\n",
       "      <th>1</th>\n",
       "      <td>EthA</td>\n",
       "      <td>2</td>\n",
       "      <td>54</td>\n",
       "    </tr>\n",
       "    <tr>\n",
       "      <th>2</th>\n",
       "      <td>EthA</td>\n",
       "      <td>0</td>\n",
       "      <td>17</td>\n",
       "    </tr>\n",
       "    <tr>\n",
       "      <th>3</th>\n",
       "      <td>EthE</td>\n",
       "      <td>1</td>\n",
       "      <td>72</td>\n",
       "    </tr>\n",
       "    <tr>\n",
       "      <th>4</th>\n",
       "      <td>EthE</td>\n",
       "      <td>2</td>\n",
       "      <td>29</td>\n",
       "    </tr>\n",
       "    <tr>\n",
       "      <th>5</th>\n",
       "      <td>EthE</td>\n",
       "      <td>0</td>\n",
       "      <td>24</td>\n",
       "    </tr>\n",
       "    <tr>\n",
       "      <th>6</th>\n",
       "      <td>EthK</td>\n",
       "      <td>0</td>\n",
       "      <td>67</td>\n",
       "    </tr>\n",
       "    <tr>\n",
       "      <th>7</th>\n",
       "      <td>EthK</td>\n",
       "      <td>1</td>\n",
       "      <td>50</td>\n",
       "    </tr>\n",
       "    <tr>\n",
       "      <th>8</th>\n",
       "      <td>EthK</td>\n",
       "      <td>2</td>\n",
       "      <td>8</td>\n",
       "    </tr>\n",
       "    <tr>\n",
       "      <th>9</th>\n",
       "      <td>EthP</td>\n",
       "      <td>1</td>\n",
       "      <td>66</td>\n",
       "    </tr>\n",
       "    <tr>\n",
       "      <th>10</th>\n",
       "      <td>EthP</td>\n",
       "      <td>2</td>\n",
       "      <td>32</td>\n",
       "    </tr>\n",
       "    <tr>\n",
       "      <th>11</th>\n",
       "      <td>EthP</td>\n",
       "      <td>0</td>\n",
       "      <td>27</td>\n",
       "    </tr>\n",
       "  </tbody>\n",
       "</table>\n",
       "</div>"
      ],
      "text/plain": [
       "   population  allele  r39098\n",
       "0        EthA       1      54\n",
       "1        EthA       2      54\n",
       "2        EthA       0      17\n",
       "3        EthE       1      72\n",
       "4        EthE       2      29\n",
       "5        EthE       0      24\n",
       "6        EthK       0      67\n",
       "7        EthK       1      50\n",
       "8        EthK       2       8\n",
       "9        EthP       1      66\n",
       "10       EthP       2      32\n",
       "11       EthP       0      27"
      ]
     },
     "execution_count": 55,
     "metadata": {},
     "output_type": "execute_result"
    }
   ],
   "source": [
    "col = df.columns[-11]\n",
    "a = df.groupby(['population'])[col].value_counts()\n",
    "a = a.rename('count').reset_index()\n",
    "a = a.rename(columns={col: 'allele', 'count': col})\n",
    "a"
   ]
  },
  {
   "cell_type": "code",
   "execution_count": 56,
   "metadata": {},
   "outputs": [
    {
     "data": {
      "text/plain": [
       "9"
      ]
     },
     "execution_count": 56,
     "metadata": {},
     "output_type": "execute_result"
    }
   ],
   "source": [
    "len(df.columns[-10:-1])"
   ]
  },
  {
   "cell_type": "code",
   "execution_count": 57,
   "metadata": {},
   "outputs": [],
   "source": [
    "for col in df.columns[-10:-1]:\n",
    "    b = df.groupby(['population'])[col].value_counts()\n",
    "    b = b.rename('count').reset_index()\n",
    "    b = b.rename(columns={col: 'allele', 'count': col})\n",
    "    a = a.merge(b, on=['population', 'allele'])"
   ]
  },
  {
   "cell_type": "code",
   "execution_count": 58,
   "metadata": {},
   "outputs": [
    {
     "data": {
      "text/html": [
       "<div>\n",
       "<style scoped>\n",
       "    .dataframe tbody tr th:only-of-type {\n",
       "        vertical-align: middle;\n",
       "    }\n",
       "\n",
       "    .dataframe tbody tr th {\n",
       "        vertical-align: top;\n",
       "    }\n",
       "\n",
       "    .dataframe thead th {\n",
       "        text-align: right;\n",
       "    }\n",
       "</style>\n",
       "<table border=\"1\" class=\"dataframe\">\n",
       "  <thead>\n",
       "    <tr style=\"text-align: right;\">\n",
       "      <th></th>\n",
       "      <th>population</th>\n",
       "      <th>allele</th>\n",
       "      <th>r39098</th>\n",
       "      <th>r39099</th>\n",
       "      <th>r39100</th>\n",
       "      <th>r39101</th>\n",
       "      <th>r39102</th>\n",
       "      <th>r39103</th>\n",
       "      <th>r39104</th>\n",
       "      <th>r39105</th>\n",
       "      <th>r39106</th>\n",
       "      <th>r39107</th>\n",
       "    </tr>\n",
       "  </thead>\n",
       "  <tbody>\n",
       "    <tr>\n",
       "      <th>0</th>\n",
       "      <td>EthA</td>\n",
       "      <td>1</td>\n",
       "      <td>54</td>\n",
       "      <td>45</td>\n",
       "      <td>62</td>\n",
       "      <td>13</td>\n",
       "      <td>52</td>\n",
       "      <td>24</td>\n",
       "      <td>62</td>\n",
       "      <td>42</td>\n",
       "      <td>58</td>\n",
       "      <td>60</td>\n",
       "    </tr>\n",
       "    <tr>\n",
       "      <th>1</th>\n",
       "      <td>EthA</td>\n",
       "      <td>2</td>\n",
       "      <td>54</td>\n",
       "      <td>17</td>\n",
       "      <td>23</td>\n",
       "      <td>112</td>\n",
       "      <td>29</td>\n",
       "      <td>98</td>\n",
       "      <td>15</td>\n",
       "      <td>5</td>\n",
       "      <td>15</td>\n",
       "      <td>16</td>\n",
       "    </tr>\n",
       "    <tr>\n",
       "      <th>2</th>\n",
       "      <td>EthE</td>\n",
       "      <td>1</td>\n",
       "      <td>72</td>\n",
       "      <td>72</td>\n",
       "      <td>70</td>\n",
       "      <td>41</td>\n",
       "      <td>54</td>\n",
       "      <td>48</td>\n",
       "      <td>61</td>\n",
       "      <td>48</td>\n",
       "      <td>71</td>\n",
       "      <td>56</td>\n",
       "    </tr>\n",
       "    <tr>\n",
       "      <th>3</th>\n",
       "      <td>EthE</td>\n",
       "      <td>2</td>\n",
       "      <td>29</td>\n",
       "      <td>32</td>\n",
       "      <td>27</td>\n",
       "      <td>5</td>\n",
       "      <td>57</td>\n",
       "      <td>11</td>\n",
       "      <td>45</td>\n",
       "      <td>71</td>\n",
       "      <td>17</td>\n",
       "      <td>33</td>\n",
       "    </tr>\n",
       "    <tr>\n",
       "      <th>4</th>\n",
       "      <td>EthE</td>\n",
       "      <td>0</td>\n",
       "      <td>24</td>\n",
       "      <td>21</td>\n",
       "      <td>28</td>\n",
       "      <td>79</td>\n",
       "      <td>14</td>\n",
       "      <td>66</td>\n",
       "      <td>19</td>\n",
       "      <td>6</td>\n",
       "      <td>37</td>\n",
       "      <td>36</td>\n",
       "    </tr>\n",
       "    <tr>\n",
       "      <th>5</th>\n",
       "      <td>EthK</td>\n",
       "      <td>0</td>\n",
       "      <td>67</td>\n",
       "      <td>28</td>\n",
       "      <td>31</td>\n",
       "      <td>22</td>\n",
       "      <td>54</td>\n",
       "      <td>61</td>\n",
       "      <td>30</td>\n",
       "      <td>59</td>\n",
       "      <td>15</td>\n",
       "      <td>34</td>\n",
       "    </tr>\n",
       "    <tr>\n",
       "      <th>6</th>\n",
       "      <td>EthK</td>\n",
       "      <td>1</td>\n",
       "      <td>50</td>\n",
       "      <td>63</td>\n",
       "      <td>66</td>\n",
       "      <td>72</td>\n",
       "      <td>59</td>\n",
       "      <td>53</td>\n",
       "      <td>66</td>\n",
       "      <td>55</td>\n",
       "      <td>55</td>\n",
       "      <td>59</td>\n",
       "    </tr>\n",
       "    <tr>\n",
       "      <th>7</th>\n",
       "      <td>EthK</td>\n",
       "      <td>2</td>\n",
       "      <td>8</td>\n",
       "      <td>34</td>\n",
       "      <td>28</td>\n",
       "      <td>31</td>\n",
       "      <td>12</td>\n",
       "      <td>11</td>\n",
       "      <td>29</td>\n",
       "      <td>11</td>\n",
       "      <td>55</td>\n",
       "      <td>32</td>\n",
       "    </tr>\n",
       "    <tr>\n",
       "      <th>8</th>\n",
       "      <td>EthP</td>\n",
       "      <td>1</td>\n",
       "      <td>66</td>\n",
       "      <td>67</td>\n",
       "      <td>64</td>\n",
       "      <td>53</td>\n",
       "      <td>76</td>\n",
       "      <td>68</td>\n",
       "      <td>61</td>\n",
       "      <td>55</td>\n",
       "      <td>65</td>\n",
       "      <td>52</td>\n",
       "    </tr>\n",
       "    <tr>\n",
       "      <th>9</th>\n",
       "      <td>EthP</td>\n",
       "      <td>2</td>\n",
       "      <td>32</td>\n",
       "      <td>36</td>\n",
       "      <td>34</td>\n",
       "      <td>10</td>\n",
       "      <td>29</td>\n",
       "      <td>30</td>\n",
       "      <td>41</td>\n",
       "      <td>69</td>\n",
       "      <td>28</td>\n",
       "      <td>49</td>\n",
       "    </tr>\n",
       "    <tr>\n",
       "      <th>10</th>\n",
       "      <td>EthP</td>\n",
       "      <td>0</td>\n",
       "      <td>27</td>\n",
       "      <td>22</td>\n",
       "      <td>27</td>\n",
       "      <td>62</td>\n",
       "      <td>20</td>\n",
       "      <td>27</td>\n",
       "      <td>23</td>\n",
       "      <td>1</td>\n",
       "      <td>32</td>\n",
       "      <td>24</td>\n",
       "    </tr>\n",
       "  </tbody>\n",
       "</table>\n",
       "</div>"
      ],
      "text/plain": [
       "   population  allele  r39098  r39099  r39100  r39101  r39102  r39103  r39104  \\\n",
       "0        EthA       1      54      45      62      13      52      24      62   \n",
       "1        EthA       2      54      17      23     112      29      98      15   \n",
       "2        EthE       1      72      72      70      41      54      48      61   \n",
       "3        EthE       2      29      32      27       5      57      11      45   \n",
       "4        EthE       0      24      21      28      79      14      66      19   \n",
       "5        EthK       0      67      28      31      22      54      61      30   \n",
       "6        EthK       1      50      63      66      72      59      53      66   \n",
       "7        EthK       2       8      34      28      31      12      11      29   \n",
       "8        EthP       1      66      67      64      53      76      68      61   \n",
       "9        EthP       2      32      36      34      10      29      30      41   \n",
       "10       EthP       0      27      22      27      62      20      27      23   \n",
       "\n",
       "    r39105  r39106  r39107  \n",
       "0       42      58      60  \n",
       "1        5      15      16  \n",
       "2       48      71      56  \n",
       "3       71      17      33  \n",
       "4        6      37      36  \n",
       "5       59      15      34  \n",
       "6       55      55      59  \n",
       "7       11      55      32  \n",
       "8       55      65      52  \n",
       "9       69      28      49  \n",
       "10       1      32      24  "
      ]
     },
     "execution_count": 58,
     "metadata": {},
     "output_type": "execute_result"
    }
   ],
   "source": [
    "a"
   ]
  },
  {
   "cell_type": "code",
   "execution_count": 59,
   "metadata": {},
   "outputs": [
    {
     "data": {
      "text/html": [
       "<div>\n",
       "<style scoped>\n",
       "    .dataframe tbody tr th:only-of-type {\n",
       "        vertical-align: middle;\n",
       "    }\n",
       "\n",
       "    .dataframe tbody tr th {\n",
       "        vertical-align: top;\n",
       "    }\n",
       "\n",
       "    .dataframe thead th {\n",
       "        text-align: right;\n",
       "    }\n",
       "</style>\n",
       "<table border=\"1\" class=\"dataframe\">\n",
       "  <thead>\n",
       "    <tr style=\"text-align: right;\">\n",
       "      <th></th>\n",
       "      <th>population</th>\n",
       "      <th>allele</th>\n",
       "      <th>snp</th>\n",
       "      <th>value</th>\n",
       "    </tr>\n",
       "  </thead>\n",
       "  <tbody>\n",
       "    <tr>\n",
       "      <th>0</th>\n",
       "      <td>EthA</td>\n",
       "      <td>1</td>\n",
       "      <td>r39098</td>\n",
       "      <td>54</td>\n",
       "    </tr>\n",
       "    <tr>\n",
       "      <th>1</th>\n",
       "      <td>EthA</td>\n",
       "      <td>2</td>\n",
       "      <td>r39098</td>\n",
       "      <td>54</td>\n",
       "    </tr>\n",
       "    <tr>\n",
       "      <th>2</th>\n",
       "      <td>EthE</td>\n",
       "      <td>1</td>\n",
       "      <td>r39098</td>\n",
       "      <td>72</td>\n",
       "    </tr>\n",
       "    <tr>\n",
       "      <th>3</th>\n",
       "      <td>EthE</td>\n",
       "      <td>2</td>\n",
       "      <td>r39098</td>\n",
       "      <td>29</td>\n",
       "    </tr>\n",
       "    <tr>\n",
       "      <th>4</th>\n",
       "      <td>EthE</td>\n",
       "      <td>0</td>\n",
       "      <td>r39098</td>\n",
       "      <td>24</td>\n",
       "    </tr>\n",
       "  </tbody>\n",
       "</table>\n",
       "</div>"
      ],
      "text/plain": [
       "  population  allele     snp  value\n",
       "0       EthA       1  r39098     54\n",
       "1       EthA       2  r39098     54\n",
       "2       EthE       1  r39098     72\n",
       "3       EthE       2  r39098     29\n",
       "4       EthE       0  r39098     24"
      ]
     },
     "execution_count": 59,
     "metadata": {},
     "output_type": "execute_result"
    }
   ],
   "source": [
    "final = pd.melt(a, id_vars=['population', 'allele'], var_name='snp')\n",
    "final.head()"
   ]
  },
  {
   "cell_type": "code",
   "execution_count": 60,
   "metadata": {},
   "outputs": [],
   "source": [
    "translate_allele = {0: 'AA', 1: 'AB', 2: 'BB'}\n",
    "final.allele = final.allele.apply(lambda t: translate_allele[t])"
   ]
  },
  {
   "cell_type": "code",
   "execution_count": 61,
   "metadata": {},
   "outputs": [
    {
     "data": {
      "text/html": [
       "<div>\n",
       "<style scoped>\n",
       "    .dataframe tbody tr th:only-of-type {\n",
       "        vertical-align: middle;\n",
       "    }\n",
       "\n",
       "    .dataframe tbody tr th {\n",
       "        vertical-align: top;\n",
       "    }\n",
       "\n",
       "    .dataframe thead th {\n",
       "        text-align: right;\n",
       "    }\n",
       "</style>\n",
       "<table border=\"1\" class=\"dataframe\">\n",
       "  <thead>\n",
       "    <tr style=\"text-align: right;\">\n",
       "      <th></th>\n",
       "      <th>population</th>\n",
       "      <th>allele</th>\n",
       "      <th>snp</th>\n",
       "      <th>value</th>\n",
       "    </tr>\n",
       "  </thead>\n",
       "  <tbody>\n",
       "    <tr>\n",
       "      <th>0</th>\n",
       "      <td>EthA</td>\n",
       "      <td>AB</td>\n",
       "      <td>r39098</td>\n",
       "      <td>54</td>\n",
       "    </tr>\n",
       "    <tr>\n",
       "      <th>1</th>\n",
       "      <td>EthA</td>\n",
       "      <td>BB</td>\n",
       "      <td>r39098</td>\n",
       "      <td>54</td>\n",
       "    </tr>\n",
       "    <tr>\n",
       "      <th>2</th>\n",
       "      <td>EthE</td>\n",
       "      <td>AB</td>\n",
       "      <td>r39098</td>\n",
       "      <td>72</td>\n",
       "    </tr>\n",
       "    <tr>\n",
       "      <th>3</th>\n",
       "      <td>EthE</td>\n",
       "      <td>BB</td>\n",
       "      <td>r39098</td>\n",
       "      <td>29</td>\n",
       "    </tr>\n",
       "    <tr>\n",
       "      <th>4</th>\n",
       "      <td>EthE</td>\n",
       "      <td>AA</td>\n",
       "      <td>r39098</td>\n",
       "      <td>24</td>\n",
       "    </tr>\n",
       "  </tbody>\n",
       "</table>\n",
       "</div>"
      ],
      "text/plain": [
       "  population allele     snp  value\n",
       "0       EthA     AB  r39098     54\n",
       "1       EthA     BB  r39098     54\n",
       "2       EthE     AB  r39098     72\n",
       "3       EthE     BB  r39098     29\n",
       "4       EthE     AA  r39098     24"
      ]
     },
     "execution_count": 61,
     "metadata": {},
     "output_type": "execute_result"
    }
   ],
   "source": [
    "final.head()"
   ]
  },
  {
   "cell_type": "code",
   "execution_count": 62,
   "metadata": {},
   "outputs": [
    {
     "data": {
      "application/vnd.vegalite.v3+json": {
       "$schema": "https://vega.github.io/schema/vega-lite/v3.4.0.json",
       "config": {
        "mark": {
         "tooltip": null
        },
        "view": {
         "height": 300,
         "strokeOpacity": 0,
         "width": 400
        }
       },
       "data": {
        "name": "data-ed4244765c5fa513765646719090e9e1"
       },
       "datasets": {
        "data-ed4244765c5fa513765646719090e9e1": [
         {
          "allele": "AB",
          "population": "EthA",
          "snp": "r39098",
          "value": 54
         },
         {
          "allele": "BB",
          "population": "EthA",
          "snp": "r39098",
          "value": 54
         },
         {
          "allele": "AB",
          "population": "EthE",
          "snp": "r39098",
          "value": 72
         },
         {
          "allele": "BB",
          "population": "EthE",
          "snp": "r39098",
          "value": 29
         },
         {
          "allele": "AA",
          "population": "EthE",
          "snp": "r39098",
          "value": 24
         },
         {
          "allele": "AA",
          "population": "EthK",
          "snp": "r39098",
          "value": 67
         },
         {
          "allele": "AB",
          "population": "EthK",
          "snp": "r39098",
          "value": 50
         },
         {
          "allele": "BB",
          "population": "EthK",
          "snp": "r39098",
          "value": 8
         },
         {
          "allele": "AB",
          "population": "EthP",
          "snp": "r39098",
          "value": 66
         },
         {
          "allele": "BB",
          "population": "EthP",
          "snp": "r39098",
          "value": 32
         },
         {
          "allele": "AA",
          "population": "EthP",
          "snp": "r39098",
          "value": 27
         },
         {
          "allele": "AB",
          "population": "EthA",
          "snp": "r39099",
          "value": 45
         },
         {
          "allele": "BB",
          "population": "EthA",
          "snp": "r39099",
          "value": 17
         },
         {
          "allele": "AB",
          "population": "EthE",
          "snp": "r39099",
          "value": 72
         },
         {
          "allele": "BB",
          "population": "EthE",
          "snp": "r39099",
          "value": 32
         },
         {
          "allele": "AA",
          "population": "EthE",
          "snp": "r39099",
          "value": 21
         },
         {
          "allele": "AA",
          "population": "EthK",
          "snp": "r39099",
          "value": 28
         },
         {
          "allele": "AB",
          "population": "EthK",
          "snp": "r39099",
          "value": 63
         },
         {
          "allele": "BB",
          "population": "EthK",
          "snp": "r39099",
          "value": 34
         },
         {
          "allele": "AB",
          "population": "EthP",
          "snp": "r39099",
          "value": 67
         },
         {
          "allele": "BB",
          "population": "EthP",
          "snp": "r39099",
          "value": 36
         },
         {
          "allele": "AA",
          "population": "EthP",
          "snp": "r39099",
          "value": 22
         },
         {
          "allele": "AB",
          "population": "EthA",
          "snp": "r39100",
          "value": 62
         },
         {
          "allele": "BB",
          "population": "EthA",
          "snp": "r39100",
          "value": 23
         },
         {
          "allele": "AB",
          "population": "EthE",
          "snp": "r39100",
          "value": 70
         },
         {
          "allele": "BB",
          "population": "EthE",
          "snp": "r39100",
          "value": 27
         },
         {
          "allele": "AA",
          "population": "EthE",
          "snp": "r39100",
          "value": 28
         },
         {
          "allele": "AA",
          "population": "EthK",
          "snp": "r39100",
          "value": 31
         },
         {
          "allele": "AB",
          "population": "EthK",
          "snp": "r39100",
          "value": 66
         },
         {
          "allele": "BB",
          "population": "EthK",
          "snp": "r39100",
          "value": 28
         },
         {
          "allele": "AB",
          "population": "EthP",
          "snp": "r39100",
          "value": 64
         },
         {
          "allele": "BB",
          "population": "EthP",
          "snp": "r39100",
          "value": 34
         },
         {
          "allele": "AA",
          "population": "EthP",
          "snp": "r39100",
          "value": 27
         },
         {
          "allele": "AB",
          "population": "EthA",
          "snp": "r39101",
          "value": 13
         },
         {
          "allele": "BB",
          "population": "EthA",
          "snp": "r39101",
          "value": 112
         },
         {
          "allele": "AB",
          "population": "EthE",
          "snp": "r39101",
          "value": 41
         },
         {
          "allele": "BB",
          "population": "EthE",
          "snp": "r39101",
          "value": 5
         },
         {
          "allele": "AA",
          "population": "EthE",
          "snp": "r39101",
          "value": 79
         },
         {
          "allele": "AA",
          "population": "EthK",
          "snp": "r39101",
          "value": 22
         },
         {
          "allele": "AB",
          "population": "EthK",
          "snp": "r39101",
          "value": 72
         },
         {
          "allele": "BB",
          "population": "EthK",
          "snp": "r39101",
          "value": 31
         },
         {
          "allele": "AB",
          "population": "EthP",
          "snp": "r39101",
          "value": 53
         },
         {
          "allele": "BB",
          "population": "EthP",
          "snp": "r39101",
          "value": 10
         },
         {
          "allele": "AA",
          "population": "EthP",
          "snp": "r39101",
          "value": 62
         },
         {
          "allele": "AB",
          "population": "EthA",
          "snp": "r39102",
          "value": 52
         },
         {
          "allele": "BB",
          "population": "EthA",
          "snp": "r39102",
          "value": 29
         },
         {
          "allele": "AB",
          "population": "EthE",
          "snp": "r39102",
          "value": 54
         },
         {
          "allele": "BB",
          "population": "EthE",
          "snp": "r39102",
          "value": 57
         },
         {
          "allele": "AA",
          "population": "EthE",
          "snp": "r39102",
          "value": 14
         },
         {
          "allele": "AA",
          "population": "EthK",
          "snp": "r39102",
          "value": 54
         },
         {
          "allele": "AB",
          "population": "EthK",
          "snp": "r39102",
          "value": 59
         },
         {
          "allele": "BB",
          "population": "EthK",
          "snp": "r39102",
          "value": 12
         },
         {
          "allele": "AB",
          "population": "EthP",
          "snp": "r39102",
          "value": 76
         },
         {
          "allele": "BB",
          "population": "EthP",
          "snp": "r39102",
          "value": 29
         },
         {
          "allele": "AA",
          "population": "EthP",
          "snp": "r39102",
          "value": 20
         },
         {
          "allele": "AB",
          "population": "EthA",
          "snp": "r39103",
          "value": 24
         },
         {
          "allele": "BB",
          "population": "EthA",
          "snp": "r39103",
          "value": 98
         },
         {
          "allele": "AB",
          "population": "EthE",
          "snp": "r39103",
          "value": 48
         },
         {
          "allele": "BB",
          "population": "EthE",
          "snp": "r39103",
          "value": 11
         },
         {
          "allele": "AA",
          "population": "EthE",
          "snp": "r39103",
          "value": 66
         },
         {
          "allele": "AA",
          "population": "EthK",
          "snp": "r39103",
          "value": 61
         },
         {
          "allele": "AB",
          "population": "EthK",
          "snp": "r39103",
          "value": 53
         },
         {
          "allele": "BB",
          "population": "EthK",
          "snp": "r39103",
          "value": 11
         },
         {
          "allele": "AB",
          "population": "EthP",
          "snp": "r39103",
          "value": 68
         },
         {
          "allele": "BB",
          "population": "EthP",
          "snp": "r39103",
          "value": 30
         },
         {
          "allele": "AA",
          "population": "EthP",
          "snp": "r39103",
          "value": 27
         },
         {
          "allele": "AB",
          "population": "EthA",
          "snp": "r39104",
          "value": 62
         },
         {
          "allele": "BB",
          "population": "EthA",
          "snp": "r39104",
          "value": 15
         },
         {
          "allele": "AB",
          "population": "EthE",
          "snp": "r39104",
          "value": 61
         },
         {
          "allele": "BB",
          "population": "EthE",
          "snp": "r39104",
          "value": 45
         },
         {
          "allele": "AA",
          "population": "EthE",
          "snp": "r39104",
          "value": 19
         },
         {
          "allele": "AA",
          "population": "EthK",
          "snp": "r39104",
          "value": 30
         },
         {
          "allele": "AB",
          "population": "EthK",
          "snp": "r39104",
          "value": 66
         },
         {
          "allele": "BB",
          "population": "EthK",
          "snp": "r39104",
          "value": 29
         },
         {
          "allele": "AB",
          "population": "EthP",
          "snp": "r39104",
          "value": 61
         },
         {
          "allele": "BB",
          "population": "EthP",
          "snp": "r39104",
          "value": 41
         },
         {
          "allele": "AA",
          "population": "EthP",
          "snp": "r39104",
          "value": 23
         },
         {
          "allele": "AB",
          "population": "EthA",
          "snp": "r39105",
          "value": 42
         },
         {
          "allele": "BB",
          "population": "EthA",
          "snp": "r39105",
          "value": 5
         },
         {
          "allele": "AB",
          "population": "EthE",
          "snp": "r39105",
          "value": 48
         },
         {
          "allele": "BB",
          "population": "EthE",
          "snp": "r39105",
          "value": 71
         },
         {
          "allele": "AA",
          "population": "EthE",
          "snp": "r39105",
          "value": 6
         },
         {
          "allele": "AA",
          "population": "EthK",
          "snp": "r39105",
          "value": 59
         },
         {
          "allele": "AB",
          "population": "EthK",
          "snp": "r39105",
          "value": 55
         },
         {
          "allele": "BB",
          "population": "EthK",
          "snp": "r39105",
          "value": 11
         },
         {
          "allele": "AB",
          "population": "EthP",
          "snp": "r39105",
          "value": 55
         },
         {
          "allele": "BB",
          "population": "EthP",
          "snp": "r39105",
          "value": 69
         },
         {
          "allele": "AA",
          "population": "EthP",
          "snp": "r39105",
          "value": 1
         },
         {
          "allele": "AB",
          "population": "EthA",
          "snp": "r39106",
          "value": 58
         },
         {
          "allele": "BB",
          "population": "EthA",
          "snp": "r39106",
          "value": 15
         },
         {
          "allele": "AB",
          "population": "EthE",
          "snp": "r39106",
          "value": 71
         },
         {
          "allele": "BB",
          "population": "EthE",
          "snp": "r39106",
          "value": 17
         },
         {
          "allele": "AA",
          "population": "EthE",
          "snp": "r39106",
          "value": 37
         },
         {
          "allele": "AA",
          "population": "EthK",
          "snp": "r39106",
          "value": 15
         },
         {
          "allele": "AB",
          "population": "EthK",
          "snp": "r39106",
          "value": 55
         },
         {
          "allele": "BB",
          "population": "EthK",
          "snp": "r39106",
          "value": 55
         },
         {
          "allele": "AB",
          "population": "EthP",
          "snp": "r39106",
          "value": 65
         },
         {
          "allele": "BB",
          "population": "EthP",
          "snp": "r39106",
          "value": 28
         },
         {
          "allele": "AA",
          "population": "EthP",
          "snp": "r39106",
          "value": 32
         },
         {
          "allele": "AB",
          "population": "EthA",
          "snp": "r39107",
          "value": 60
         },
         {
          "allele": "BB",
          "population": "EthA",
          "snp": "r39107",
          "value": 16
         },
         {
          "allele": "AB",
          "population": "EthE",
          "snp": "r39107",
          "value": 56
         },
         {
          "allele": "BB",
          "population": "EthE",
          "snp": "r39107",
          "value": 33
         },
         {
          "allele": "AA",
          "population": "EthE",
          "snp": "r39107",
          "value": 36
         },
         {
          "allele": "AA",
          "population": "EthK",
          "snp": "r39107",
          "value": 34
         },
         {
          "allele": "AB",
          "population": "EthK",
          "snp": "r39107",
          "value": 59
         },
         {
          "allele": "BB",
          "population": "EthK",
          "snp": "r39107",
          "value": 32
         },
         {
          "allele": "AB",
          "population": "EthP",
          "snp": "r39107",
          "value": 52
         },
         {
          "allele": "BB",
          "population": "EthP",
          "snp": "r39107",
          "value": 49
         },
         {
          "allele": "AA",
          "population": "EthP",
          "snp": "r39107",
          "value": 24
         }
        ]
       },
       "encoding": {
        "color": {
         "field": "allele",
         "scale": {
          "range": [
           "#96ceb4",
           "#ffcc5c",
           "#ff6f69"
          ]
         },
         "type": "nominal"
        },
        "column": {
         "field": "snp",
         "sort": [
          "r0",
          "r1",
          "r2",
          "r3",
          "r4",
          "r5",
          "r6",
          "r7",
          "r8",
          "r9"
         ],
         "title": null,
         "type": "nominal"
        },
        "x": {
         "field": "population",
         "title": null,
         "type": "nominal"
        },
        "y": {
         "axis": {
          "grid": false,
          "title": null
         },
         "field": "value",
         "stack": "normalize",
         "type": "quantitative"
        }
       },
       "mark": "bar"
      },
      "image/png": "[encoded data removed]",
      "text/plain": [
       "<VegaLite 3 object>\n",
       "\n",
       "If you see this message, it means the renderer has not been properly enabled\n",
       "for the frontend that you are using. For more information, see\n",
       "https://altair-viz.github.io/user_guide/troubleshooting.html\n"
      ]
     },
     "execution_count": 62,
     "metadata": {},
     "output_type": "execute_result"
    }
   ],
   "source": [
    "alt.Chart(final).mark_bar().encode(\n",
    "    x=alt.X('population:N', title=None),\n",
    "    y=alt.Y('value:Q', axis=alt.Axis(grid=False, title=None), stack='normalize'),\n",
    "    column=alt.Column('snp:N', title=None, sort=list(df.columns[1:11])),\n",
    "    color=alt.Color('allele:N', scale=alt.Scale(range=['#96ceb4', '#ffcc5c','#ff6f69']))\n",
    ").configure_view(\n",
    "    strokeOpacity=0\n",
    ")"
   ]
  },
  {
   "cell_type": "markdown",
   "metadata": {},
   "source": [
    "***"
   ]
  },
  {
   "cell_type": "markdown",
   "metadata": {},
   "source": [
    "df.iloc[:10, :10].to_latex()"
   ]
  }
 ],
 "metadata": {
  "kernelspec": {
   "display_name": "Python 3",
   "language": "python",
   "name": "python3"
  },
  "language_info": {
   "codemirror_mode": {
    "name": "ipython",
    "version": 3
   },
   "file_extension": ".py",
   "mimetype": "text/x-python",
   "name": "python",
   "nbconvert_exporter": "python",
   "pygments_lexer": "ipython3",
   "version": "3.6.8"
  }
 },
 "nbformat": 4,
 "nbformat_minor": 4
}
