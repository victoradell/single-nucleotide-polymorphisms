{
 "cells": [
  {
   "cell_type": "code",
   "execution_count": 1,
   "metadata": {},
   "outputs": [],
   "source": [
    "import pandas as pd\n",
    "import numpy as np\n",
    "import altair as alt"
   ]
  },
  {
   "cell_type": "code",
   "execution_count": 2,
   "metadata": {},
   "outputs": [],
   "source": [
    "df = pd.read_csv('../data/snp.csv')\n",
    "population = pd.read_csv('../data/population.csv', usecols=['population'])"
   ]
  },
  {
   "cell_type": "code",
   "execution_count": 3,
   "metadata": {},
   "outputs": [],
   "source": [
    "df = df.join(population)"
   ]
  },
  {
   "cell_type": "code",
   "execution_count": 4,
   "metadata": {},
   "outputs": [
    {
     "data": {
      "text/html": [
       "<div>\n",
       "<style scoped>\n",
       "    .dataframe tbody tr th:only-of-type {\n",
       "        vertical-align: middle;\n",
       "    }\n",
       "\n",
       "    .dataframe tbody tr th {\n",
       "        vertical-align: top;\n",
       "    }\n",
       "\n",
       "    .dataframe thead th {\n",
       "        text-align: right;\n",
       "    }\n",
       "</style>\n",
       "<table border=\"1\" class=\"dataframe\">\n",
       "  <thead>\n",
       "    <tr style=\"text-align: right;\">\n",
       "      <th></th>\n",
       "      <th>name</th>\n",
       "      <th>rs9442373_C</th>\n",
       "      <th>rs1571150_A</th>\n",
       "      <th>rs4074196_C</th>\n",
       "      <th>rs2748986_G</th>\n",
       "      <th>rs28508199_G</th>\n",
       "      <th>rs6661597_T</th>\n",
       "      <th>rs2257182_C</th>\n",
       "      <th>rs12045693_A</th>\n",
       "      <th>rs2843142_A</th>\n",
       "      <th>...</th>\n",
       "      <th>rs4824127_C</th>\n",
       "      <th>rs131817_A</th>\n",
       "      <th>rs131750_C</th>\n",
       "      <th>rs2238837_C</th>\n",
       "      <th>rs28680530_C</th>\n",
       "      <th>rs34787751_G</th>\n",
       "      <th>rs34027812_A</th>\n",
       "      <th>rs311157_T</th>\n",
       "      <th>rs2984684_T</th>\n",
       "      <th>population</th>\n",
       "    </tr>\n",
       "  </thead>\n",
       "  <tbody>\n",
       "    <tr>\n",
       "      <th>0</th>\n",
       "      <td>NA19919</td>\n",
       "      <td>0</td>\n",
       "      <td>2</td>\n",
       "      <td>0</td>\n",
       "      <td>1</td>\n",
       "      <td>1</td>\n",
       "      <td>1</td>\n",
       "      <td>0</td>\n",
       "      <td>0</td>\n",
       "      <td>1</td>\n",
       "      <td>...</td>\n",
       "      <td>1</td>\n",
       "      <td>0</td>\n",
       "      <td>0</td>\n",
       "      <td>2</td>\n",
       "      <td>1</td>\n",
       "      <td>0</td>\n",
       "      <td>1</td>\n",
       "      <td>0</td>\n",
       "      <td>1</td>\n",
       "      <td>ASW</td>\n",
       "    </tr>\n",
       "    <tr>\n",
       "      <th>1</th>\n",
       "      <td>NA19916</td>\n",
       "      <td>0</td>\n",
       "      <td>0</td>\n",
       "      <td>0</td>\n",
       "      <td>2</td>\n",
       "      <td>2</td>\n",
       "      <td>0</td>\n",
       "      <td>2</td>\n",
       "      <td>2</td>\n",
       "      <td>0</td>\n",
       "      <td>...</td>\n",
       "      <td>1</td>\n",
       "      <td>0</td>\n",
       "      <td>0</td>\n",
       "      <td>2</td>\n",
       "      <td>1</td>\n",
       "      <td>1</td>\n",
       "      <td>1</td>\n",
       "      <td>1</td>\n",
       "      <td>2</td>\n",
       "      <td>ASW</td>\n",
       "    </tr>\n",
       "    <tr>\n",
       "      <th>2</th>\n",
       "      <td>NA19835</td>\n",
       "      <td>1</td>\n",
       "      <td>2</td>\n",
       "      <td>1</td>\n",
       "      <td>1</td>\n",
       "      <td>2</td>\n",
       "      <td>0</td>\n",
       "      <td>2</td>\n",
       "      <td>2</td>\n",
       "      <td>1</td>\n",
       "      <td>...</td>\n",
       "      <td>1</td>\n",
       "      <td>1</td>\n",
       "      <td>0</td>\n",
       "      <td>2</td>\n",
       "      <td>1</td>\n",
       "      <td>0</td>\n",
       "      <td>1</td>\n",
       "      <td>1</td>\n",
       "      <td>2</td>\n",
       "      <td>ASW</td>\n",
       "    </tr>\n",
       "    <tr>\n",
       "      <th>3</th>\n",
       "      <td>NA20282</td>\n",
       "      <td>1</td>\n",
       "      <td>0</td>\n",
       "      <td>1</td>\n",
       "      <td>0</td>\n",
       "      <td>1</td>\n",
       "      <td>0</td>\n",
       "      <td>1</td>\n",
       "      <td>0</td>\n",
       "      <td>1</td>\n",
       "      <td>...</td>\n",
       "      <td>1</td>\n",
       "      <td>0</td>\n",
       "      <td>1</td>\n",
       "      <td>0</td>\n",
       "      <td>2</td>\n",
       "      <td>1</td>\n",
       "      <td>2</td>\n",
       "      <td>0</td>\n",
       "      <td>2</td>\n",
       "      <td>ASW</td>\n",
       "    </tr>\n",
       "    <tr>\n",
       "      <th>4</th>\n",
       "      <td>NA19703</td>\n",
       "      <td>0</td>\n",
       "      <td>2</td>\n",
       "      <td>2</td>\n",
       "      <td>1</td>\n",
       "      <td>2</td>\n",
       "      <td>0</td>\n",
       "      <td>2</td>\n",
       "      <td>1</td>\n",
       "      <td>0</td>\n",
       "      <td>...</td>\n",
       "      <td>1</td>\n",
       "      <td>1</td>\n",
       "      <td>0</td>\n",
       "      <td>1</td>\n",
       "      <td>0</td>\n",
       "      <td>1</td>\n",
       "      <td>2</td>\n",
       "      <td>1</td>\n",
       "      <td>2</td>\n",
       "      <td>ASW</td>\n",
       "    </tr>\n",
       "  </tbody>\n",
       "</table>\n",
       "<p>5 rows × 27184 columns</p>\n",
       "</div>"
      ],
      "text/plain": [
       "      name  rs9442373_C  rs1571150_A  rs4074196_C  rs2748986_G  rs28508199_G  \\\n",
       "0  NA19919            0            2            0            1             1   \n",
       "1  NA19916            0            0            0            2             2   \n",
       "2  NA19835            1            2            1            1             2   \n",
       "3  NA20282            1            0            1            0             1   \n",
       "4  NA19703            0            2            2            1             2   \n",
       "\n",
       "   rs6661597_T  rs2257182_C  rs12045693_A  rs2843142_A  ...  rs4824127_C  \\\n",
       "0            1            0             0            1  ...            1   \n",
       "1            0            2             2            0  ...            1   \n",
       "2            0            2             2            1  ...            1   \n",
       "3            0            1             0            1  ...            1   \n",
       "4            0            2             1            0  ...            1   \n",
       "\n",
       "   rs131817_A  rs131750_C  rs2238837_C  rs28680530_C  rs34787751_G  \\\n",
       "0           0           0            2             1             0   \n",
       "1           0           0            2             1             1   \n",
       "2           1           0            2             1             0   \n",
       "3           0           1            0             2             1   \n",
       "4           1           0            1             0             1   \n",
       "\n",
       "   rs34027812_A  rs311157_T  rs2984684_T  population  \n",
       "0             1           0            1         ASW  \n",
       "1             1           1            2         ASW  \n",
       "2             1           1            2         ASW  \n",
       "3             2           0            2         ASW  \n",
       "4             2           1            2         ASW  \n",
       "\n",
       "[5 rows x 27184 columns]"
      ]
     },
     "execution_count": 4,
     "metadata": {},
     "output_type": "execute_result"
    }
   ],
   "source": [
    "df.head()"
   ]
  },
  {
   "cell_type": "code",
   "execution_count": 5,
   "metadata": {},
   "outputs": [
    {
     "data": {
      "text/html": [
       "<div>\n",
       "<style scoped>\n",
       "    .dataframe tbody tr th:only-of-type {\n",
       "        vertical-align: middle;\n",
       "    }\n",
       "\n",
       "    .dataframe tbody tr th {\n",
       "        vertical-align: top;\n",
       "    }\n",
       "\n",
       "    .dataframe thead th {\n",
       "        text-align: right;\n",
       "    }\n",
       "</style>\n",
       "<table border=\"1\" class=\"dataframe\">\n",
       "  <thead>\n",
       "    <tr style=\"text-align: right;\">\n",
       "      <th></th>\n",
       "      <th>population</th>\n",
       "      <th>allele</th>\n",
       "      <th>rs9442373_C</th>\n",
       "    </tr>\n",
       "  </thead>\n",
       "  <tbody>\n",
       "    <tr>\n",
       "      <th>0</th>\n",
       "      <td>ASW</td>\n",
       "      <td>1</td>\n",
       "      <td>44</td>\n",
       "    </tr>\n",
       "    <tr>\n",
       "      <th>1</th>\n",
       "      <td>ASW</td>\n",
       "      <td>0</td>\n",
       "      <td>24</td>\n",
       "    </tr>\n",
       "    <tr>\n",
       "      <th>2</th>\n",
       "      <td>ASW</td>\n",
       "      <td>2</td>\n",
       "      <td>19</td>\n",
       "    </tr>\n",
       "    <tr>\n",
       "      <th>3</th>\n",
       "      <td>CEU</td>\n",
       "      <td>1</td>\n",
       "      <td>81</td>\n",
       "    </tr>\n",
       "    <tr>\n",
       "      <th>4</th>\n",
       "      <td>CEU</td>\n",
       "      <td>0</td>\n",
       "      <td>55</td>\n",
       "    </tr>\n",
       "    <tr>\n",
       "      <th>5</th>\n",
       "      <td>CEU</td>\n",
       "      <td>2</td>\n",
       "      <td>29</td>\n",
       "    </tr>\n",
       "    <tr>\n",
       "      <th>6</th>\n",
       "      <td>CHB</td>\n",
       "      <td>1</td>\n",
       "      <td>62</td>\n",
       "    </tr>\n",
       "    <tr>\n",
       "      <th>7</th>\n",
       "      <td>CHB</td>\n",
       "      <td>0</td>\n",
       "      <td>41</td>\n",
       "    </tr>\n",
       "    <tr>\n",
       "      <th>8</th>\n",
       "      <td>CHB</td>\n",
       "      <td>2</td>\n",
       "      <td>34</td>\n",
       "    </tr>\n",
       "  </tbody>\n",
       "</table>\n",
       "</div>"
      ],
      "text/plain": [
       "  population  allele  rs9442373_C\n",
       "0        ASW       1           44\n",
       "1        ASW       0           24\n",
       "2        ASW       2           19\n",
       "3        CEU       1           81\n",
       "4        CEU       0           55\n",
       "5        CEU       2           29\n",
       "6        CHB       1           62\n",
       "7        CHB       0           41\n",
       "8        CHB       2           34"
      ]
     },
     "execution_count": 5,
     "metadata": {},
     "output_type": "execute_result"
    }
   ],
   "source": [
    "col = df.columns[1]\n",
    "a = df.groupby(['population'])[col].value_counts()\n",
    "a = a.rename('count').reset_index()\n",
    "a = a.rename(columns={col: 'allele', 'count': col})\n",
    "a"
   ]
  },
  {
   "cell_type": "code",
   "execution_count": 6,
   "metadata": {},
   "outputs": [],
   "source": [
    "for col in df.columns[2:11]:\n",
    "    b = df.groupby(['population'])[col].value_counts()\n",
    "    b = b.rename('count').reset_index()\n",
    "    b = b.rename(columns={col: 'allele', 'count': col})\n",
    "    a = a.merge(b, on=['population', 'allele'])"
   ]
  },
  {
   "cell_type": "code",
   "execution_count": 7,
   "metadata": {},
   "outputs": [
    {
     "data": {
      "text/html": [
       "<div>\n",
       "<style scoped>\n",
       "    .dataframe tbody tr th:only-of-type {\n",
       "        vertical-align: middle;\n",
       "    }\n",
       "\n",
       "    .dataframe tbody tr th {\n",
       "        vertical-align: top;\n",
       "    }\n",
       "\n",
       "    .dataframe thead th {\n",
       "        text-align: right;\n",
       "    }\n",
       "</style>\n",
       "<table border=\"1\" class=\"dataframe\">\n",
       "  <thead>\n",
       "    <tr style=\"text-align: right;\">\n",
       "      <th></th>\n",
       "      <th>population</th>\n",
       "      <th>allele</th>\n",
       "      <th>rs9442373_C</th>\n",
       "      <th>rs1571150_A</th>\n",
       "      <th>rs4074196_C</th>\n",
       "      <th>rs2748986_G</th>\n",
       "      <th>rs28508199_G</th>\n",
       "      <th>rs6661597_T</th>\n",
       "      <th>rs2257182_C</th>\n",
       "      <th>rs12045693_A</th>\n",
       "      <th>rs2843142_A</th>\n",
       "      <th>rs2840528_A</th>\n",
       "    </tr>\n",
       "  </thead>\n",
       "  <tbody>\n",
       "    <tr>\n",
       "      <th>0</th>\n",
       "      <td>ASW</td>\n",
       "      <td>1</td>\n",
       "      <td>44</td>\n",
       "      <td>44</td>\n",
       "      <td>44</td>\n",
       "      <td>45</td>\n",
       "      <td>37</td>\n",
       "      <td>23</td>\n",
       "      <td>41</td>\n",
       "      <td>48</td>\n",
       "      <td>28</td>\n",
       "      <td>35</td>\n",
       "    </tr>\n",
       "    <tr>\n",
       "      <th>1</th>\n",
       "      <td>ASW</td>\n",
       "      <td>0</td>\n",
       "      <td>24</td>\n",
       "      <td>18</td>\n",
       "      <td>23</td>\n",
       "      <td>16</td>\n",
       "      <td>11</td>\n",
       "      <td>63</td>\n",
       "      <td>10</td>\n",
       "      <td>22</td>\n",
       "      <td>49</td>\n",
       "      <td>39</td>\n",
       "    </tr>\n",
       "    <tr>\n",
       "      <th>2</th>\n",
       "      <td>ASW</td>\n",
       "      <td>2</td>\n",
       "      <td>19</td>\n",
       "      <td>25</td>\n",
       "      <td>20</td>\n",
       "      <td>26</td>\n",
       "      <td>39</td>\n",
       "      <td>1</td>\n",
       "      <td>36</td>\n",
       "      <td>17</td>\n",
       "      <td>10</td>\n",
       "      <td>13</td>\n",
       "    </tr>\n",
       "    <tr>\n",
       "      <th>3</th>\n",
       "      <td>CEU</td>\n",
       "      <td>1</td>\n",
       "      <td>81</td>\n",
       "      <td>74</td>\n",
       "      <td>84</td>\n",
       "      <td>80</td>\n",
       "      <td>73</td>\n",
       "      <td>76</td>\n",
       "      <td>76</td>\n",
       "      <td>77</td>\n",
       "      <td>81</td>\n",
       "      <td>92</td>\n",
       "    </tr>\n",
       "    <tr>\n",
       "      <th>4</th>\n",
       "      <td>CEU</td>\n",
       "      <td>0</td>\n",
       "      <td>55</td>\n",
       "      <td>74</td>\n",
       "      <td>49</td>\n",
       "      <td>44</td>\n",
       "      <td>75</td>\n",
       "      <td>32</td>\n",
       "      <td>69</td>\n",
       "      <td>62</td>\n",
       "      <td>53</td>\n",
       "      <td>35</td>\n",
       "    </tr>\n",
       "    <tr>\n",
       "      <th>5</th>\n",
       "      <td>CEU</td>\n",
       "      <td>2</td>\n",
       "      <td>29</td>\n",
       "      <td>17</td>\n",
       "      <td>32</td>\n",
       "      <td>41</td>\n",
       "      <td>17</td>\n",
       "      <td>57</td>\n",
       "      <td>20</td>\n",
       "      <td>26</td>\n",
       "      <td>31</td>\n",
       "      <td>38</td>\n",
       "    </tr>\n",
       "    <tr>\n",
       "      <th>6</th>\n",
       "      <td>CHB</td>\n",
       "      <td>1</td>\n",
       "      <td>62</td>\n",
       "      <td>66</td>\n",
       "      <td>70</td>\n",
       "      <td>69</td>\n",
       "      <td>73</td>\n",
       "      <td>67</td>\n",
       "      <td>62</td>\n",
       "      <td>75</td>\n",
       "      <td>78</td>\n",
       "      <td>63</td>\n",
       "    </tr>\n",
       "    <tr>\n",
       "      <th>7</th>\n",
       "      <td>CHB</td>\n",
       "      <td>0</td>\n",
       "      <td>41</td>\n",
       "      <td>26</td>\n",
       "      <td>28</td>\n",
       "      <td>49</td>\n",
       "      <td>50</td>\n",
       "      <td>53</td>\n",
       "      <td>50</td>\n",
       "      <td>23</td>\n",
       "      <td>29</td>\n",
       "      <td>28</td>\n",
       "    </tr>\n",
       "    <tr>\n",
       "      <th>8</th>\n",
       "      <td>CHB</td>\n",
       "      <td>2</td>\n",
       "      <td>34</td>\n",
       "      <td>45</td>\n",
       "      <td>39</td>\n",
       "      <td>19</td>\n",
       "      <td>14</td>\n",
       "      <td>17</td>\n",
       "      <td>25</td>\n",
       "      <td>39</td>\n",
       "      <td>30</td>\n",
       "      <td>46</td>\n",
       "    </tr>\n",
       "  </tbody>\n",
       "</table>\n",
       "</div>"
      ],
      "text/plain": [
       "  population  allele  rs9442373_C  rs1571150_A  rs4074196_C  rs2748986_G  \\\n",
       "0        ASW       1           44           44           44           45   \n",
       "1        ASW       0           24           18           23           16   \n",
       "2        ASW       2           19           25           20           26   \n",
       "3        CEU       1           81           74           84           80   \n",
       "4        CEU       0           55           74           49           44   \n",
       "5        CEU       2           29           17           32           41   \n",
       "6        CHB       1           62           66           70           69   \n",
       "7        CHB       0           41           26           28           49   \n",
       "8        CHB       2           34           45           39           19   \n",
       "\n",
       "   rs28508199_G  rs6661597_T  rs2257182_C  rs12045693_A  rs2843142_A  \\\n",
       "0            37           23           41            48           28   \n",
       "1            11           63           10            22           49   \n",
       "2            39            1           36            17           10   \n",
       "3            73           76           76            77           81   \n",
       "4            75           32           69            62           53   \n",
       "5            17           57           20            26           31   \n",
       "6            73           67           62            75           78   \n",
       "7            50           53           50            23           29   \n",
       "8            14           17           25            39           30   \n",
       "\n",
       "   rs2840528_A  \n",
       "0           35  \n",
       "1           39  \n",
       "2           13  \n",
       "3           92  \n",
       "4           35  \n",
       "5           38  \n",
       "6           63  \n",
       "7           28  \n",
       "8           46  "
      ]
     },
     "execution_count": 7,
     "metadata": {},
     "output_type": "execute_result"
    }
   ],
   "source": [
    "a"
   ]
  },
  {
   "cell_type": "code",
   "execution_count": 8,
   "metadata": {},
   "outputs": [
    {
     "data": {
      "text/html": [
       "<div>\n",
       "<style scoped>\n",
       "    .dataframe tbody tr th:only-of-type {\n",
       "        vertical-align: middle;\n",
       "    }\n",
       "\n",
       "    .dataframe tbody tr th {\n",
       "        vertical-align: top;\n",
       "    }\n",
       "\n",
       "    .dataframe thead th {\n",
       "        text-align: right;\n",
       "    }\n",
       "</style>\n",
       "<table border=\"1\" class=\"dataframe\">\n",
       "  <thead>\n",
       "    <tr style=\"text-align: right;\">\n",
       "      <th></th>\n",
       "      <th>population</th>\n",
       "      <th>allele</th>\n",
       "      <th>snp</th>\n",
       "      <th>value</th>\n",
       "    </tr>\n",
       "  </thead>\n",
       "  <tbody>\n",
       "    <tr>\n",
       "      <th>0</th>\n",
       "      <td>ASW</td>\n",
       "      <td>1</td>\n",
       "      <td>rs9442373_C</td>\n",
       "      <td>44</td>\n",
       "    </tr>\n",
       "    <tr>\n",
       "      <th>1</th>\n",
       "      <td>ASW</td>\n",
       "      <td>0</td>\n",
       "      <td>rs9442373_C</td>\n",
       "      <td>24</td>\n",
       "    </tr>\n",
       "    <tr>\n",
       "      <th>2</th>\n",
       "      <td>ASW</td>\n",
       "      <td>2</td>\n",
       "      <td>rs9442373_C</td>\n",
       "      <td>19</td>\n",
       "    </tr>\n",
       "    <tr>\n",
       "      <th>3</th>\n",
       "      <td>CEU</td>\n",
       "      <td>1</td>\n",
       "      <td>rs9442373_C</td>\n",
       "      <td>81</td>\n",
       "    </tr>\n",
       "    <tr>\n",
       "      <th>4</th>\n",
       "      <td>CEU</td>\n",
       "      <td>0</td>\n",
       "      <td>rs9442373_C</td>\n",
       "      <td>55</td>\n",
       "    </tr>\n",
       "  </tbody>\n",
       "</table>\n",
       "</div>"
      ],
      "text/plain": [
       "  population  allele          snp  value\n",
       "0        ASW       1  rs9442373_C     44\n",
       "1        ASW       0  rs9442373_C     24\n",
       "2        ASW       2  rs9442373_C     19\n",
       "3        CEU       1  rs9442373_C     81\n",
       "4        CEU       0  rs9442373_C     55"
      ]
     },
     "execution_count": 8,
     "metadata": {},
     "output_type": "execute_result"
    }
   ],
   "source": [
    "final = pd.melt(a, id_vars=['population', 'allele'], var_name='snp')\n",
    "final.head()"
   ]
  },
  {
   "cell_type": "code",
   "execution_count": 9,
   "metadata": {},
   "outputs": [],
   "source": [
    "translate_allele = {0: 'AA', 1: 'AB', 2: 'BB'}\n",
    "final.allele = final.allele.apply(lambda t: translate_allele[t])"
   ]
  },
  {
   "cell_type": "code",
   "execution_count": 10,
   "metadata": {},
   "outputs": [
    {
     "data": {
      "text/html": [
       "<div>\n",
       "<style scoped>\n",
       "    .dataframe tbody tr th:only-of-type {\n",
       "        vertical-align: middle;\n",
       "    }\n",
       "\n",
       "    .dataframe tbody tr th {\n",
       "        vertical-align: top;\n",
       "    }\n",
       "\n",
       "    .dataframe thead th {\n",
       "        text-align: right;\n",
       "    }\n",
       "</style>\n",
       "<table border=\"1\" class=\"dataframe\">\n",
       "  <thead>\n",
       "    <tr style=\"text-align: right;\">\n",
       "      <th></th>\n",
       "      <th>population</th>\n",
       "      <th>allele</th>\n",
       "      <th>snp</th>\n",
       "      <th>value</th>\n",
       "    </tr>\n",
       "  </thead>\n",
       "  <tbody>\n",
       "    <tr>\n",
       "      <th>0</th>\n",
       "      <td>ASW</td>\n",
       "      <td>AB</td>\n",
       "      <td>rs9442373_C</td>\n",
       "      <td>44</td>\n",
       "    </tr>\n",
       "    <tr>\n",
       "      <th>1</th>\n",
       "      <td>ASW</td>\n",
       "      <td>AA</td>\n",
       "      <td>rs9442373_C</td>\n",
       "      <td>24</td>\n",
       "    </tr>\n",
       "    <tr>\n",
       "      <th>2</th>\n",
       "      <td>ASW</td>\n",
       "      <td>BB</td>\n",
       "      <td>rs9442373_C</td>\n",
       "      <td>19</td>\n",
       "    </tr>\n",
       "    <tr>\n",
       "      <th>3</th>\n",
       "      <td>CEU</td>\n",
       "      <td>AB</td>\n",
       "      <td>rs9442373_C</td>\n",
       "      <td>81</td>\n",
       "    </tr>\n",
       "    <tr>\n",
       "      <th>4</th>\n",
       "      <td>CEU</td>\n",
       "      <td>AA</td>\n",
       "      <td>rs9442373_C</td>\n",
       "      <td>55</td>\n",
       "    </tr>\n",
       "  </tbody>\n",
       "</table>\n",
       "</div>"
      ],
      "text/plain": [
       "  population allele          snp  value\n",
       "0        ASW     AB  rs9442373_C     44\n",
       "1        ASW     AA  rs9442373_C     24\n",
       "2        ASW     BB  rs9442373_C     19\n",
       "3        CEU     AB  rs9442373_C     81\n",
       "4        CEU     AA  rs9442373_C     55"
      ]
     },
     "execution_count": 10,
     "metadata": {},
     "output_type": "execute_result"
    }
   ],
   "source": [
    "final.head()"
   ]
  },
  {
   "cell_type": "code",
   "execution_count": 11,
   "metadata": {},
   "outputs": [
    {
     "data": {
      "application/vnd.vegalite.v3+json": {
       "$schema": "https://vega.github.io/schema/vega-lite/v3.4.0.json",
       "config": {
        "mark": {
         "tooltip": null
        },
        "view": {
         "height": 300,
         "strokeOpacity": 0,
         "width": 400
        }
       },
       "data": {
        "name": "data-42b57ff59ea0b4aaad5106ec1ec7f028"
       },
       "datasets": {
        "data-42b57ff59ea0b4aaad5106ec1ec7f028": [
         {
          "allele": "AB",
          "population": "ASW",
          "snp": "rs9442373_C",
          "value": 44
         },
         {
          "allele": "AA",
          "population": "ASW",
          "snp": "rs9442373_C",
          "value": 24
         },
         {
          "allele": "BB",
          "population": "ASW",
          "snp": "rs9442373_C",
          "value": 19
         },
         {
          "allele": "AB",
          "population": "CEU",
          "snp": "rs9442373_C",
          "value": 81
         },
         {
          "allele": "AA",
          "population": "CEU",
          "snp": "rs9442373_C",
          "value": 55
         },
         {
          "allele": "BB",
          "population": "CEU",
          "snp": "rs9442373_C",
          "value": 29
         },
         {
          "allele": "AB",
          "population": "CHB",
          "snp": "rs9442373_C",
          "value": 62
         },
         {
          "allele": "AA",
          "population": "CHB",
          "snp": "rs9442373_C",
          "value": 41
         },
         {
          "allele": "BB",
          "population": "CHB",
          "snp": "rs9442373_C",
          "value": 34
         },
         {
          "allele": "AB",
          "population": "ASW",
          "snp": "rs1571150_A",
          "value": 44
         },
         {
          "allele": "AA",
          "population": "ASW",
          "snp": "rs1571150_A",
          "value": 18
         },
         {
          "allele": "BB",
          "population": "ASW",
          "snp": "rs1571150_A",
          "value": 25
         },
         {
          "allele": "AB",
          "population": "CEU",
          "snp": "rs1571150_A",
          "value": 74
         },
         {
          "allele": "AA",
          "population": "CEU",
          "snp": "rs1571150_A",
          "value": 74
         },
         {
          "allele": "BB",
          "population": "CEU",
          "snp": "rs1571150_A",
          "value": 17
         },
         {
          "allele": "AB",
          "population": "CHB",
          "snp": "rs1571150_A",
          "value": 66
         },
         {
          "allele": "AA",
          "population": "CHB",
          "snp": "rs1571150_A",
          "value": 26
         },
         {
          "allele": "BB",
          "population": "CHB",
          "snp": "rs1571150_A",
          "value": 45
         },
         {
          "allele": "AB",
          "population": "ASW",
          "snp": "rs4074196_C",
          "value": 44
         },
         {
          "allele": "AA",
          "population": "ASW",
          "snp": "rs4074196_C",
          "value": 23
         },
         {
          "allele": "BB",
          "population": "ASW",
          "snp": "rs4074196_C",
          "value": 20
         },
         {
          "allele": "AB",
          "population": "CEU",
          "snp": "rs4074196_C",
          "value": 84
         },
         {
          "allele": "AA",
          "population": "CEU",
          "snp": "rs4074196_C",
          "value": 49
         },
         {
          "allele": "BB",
          "population": "CEU",
          "snp": "rs4074196_C",
          "value": 32
         },
         {
          "allele": "AB",
          "population": "CHB",
          "snp": "rs4074196_C",
          "value": 70
         },
         {
          "allele": "AA",
          "population": "CHB",
          "snp": "rs4074196_C",
          "value": 28
         },
         {
          "allele": "BB",
          "population": "CHB",
          "snp": "rs4074196_C",
          "value": 39
         },
         {
          "allele": "AB",
          "population": "ASW",
          "snp": "rs2748986_G",
          "value": 45
         },
         {
          "allele": "AA",
          "population": "ASW",
          "snp": "rs2748986_G",
          "value": 16
         },
         {
          "allele": "BB",
          "population": "ASW",
          "snp": "rs2748986_G",
          "value": 26
         },
         {
          "allele": "AB",
          "population": "CEU",
          "snp": "rs2748986_G",
          "value": 80
         },
         {
          "allele": "AA",
          "population": "CEU",
          "snp": "rs2748986_G",
          "value": 44
         },
         {
          "allele": "BB",
          "population": "CEU",
          "snp": "rs2748986_G",
          "value": 41
         },
         {
          "allele": "AB",
          "population": "CHB",
          "snp": "rs2748986_G",
          "value": 69
         },
         {
          "allele": "AA",
          "population": "CHB",
          "snp": "rs2748986_G",
          "value": 49
         },
         {
          "allele": "BB",
          "population": "CHB",
          "snp": "rs2748986_G",
          "value": 19
         },
         {
          "allele": "AB",
          "population": "ASW",
          "snp": "rs28508199_G",
          "value": 37
         },
         {
          "allele": "AA",
          "population": "ASW",
          "snp": "rs28508199_G",
          "value": 11
         },
         {
          "allele": "BB",
          "population": "ASW",
          "snp": "rs28508199_G",
          "value": 39
         },
         {
          "allele": "AB",
          "population": "CEU",
          "snp": "rs28508199_G",
          "value": 73
         },
         {
          "allele": "AA",
          "population": "CEU",
          "snp": "rs28508199_G",
          "value": 75
         },
         {
          "allele": "BB",
          "population": "CEU",
          "snp": "rs28508199_G",
          "value": 17
         },
         {
          "allele": "AB",
          "population": "CHB",
          "snp": "rs28508199_G",
          "value": 73
         },
         {
          "allele": "AA",
          "population": "CHB",
          "snp": "rs28508199_G",
          "value": 50
         },
         {
          "allele": "BB",
          "population": "CHB",
          "snp": "rs28508199_G",
          "value": 14
         },
         {
          "allele": "AB",
          "population": "ASW",
          "snp": "rs6661597_T",
          "value": 23
         },
         {
          "allele": "AA",
          "population": "ASW",
          "snp": "rs6661597_T",
          "value": 63
         },
         {
          "allele": "BB",
          "population": "ASW",
          "snp": "rs6661597_T",
          "value": 1
         },
         {
          "allele": "AB",
          "population": "CEU",
          "snp": "rs6661597_T",
          "value": 76
         },
         {
          "allele": "AA",
          "population": "CEU",
          "snp": "rs6661597_T",
          "value": 32
         },
         {
          "allele": "BB",
          "population": "CEU",
          "snp": "rs6661597_T",
          "value": 57
         },
         {
          "allele": "AB",
          "population": "CHB",
          "snp": "rs6661597_T",
          "value": 67
         },
         {
          "allele": "AA",
          "population": "CHB",
          "snp": "rs6661597_T",
          "value": 53
         },
         {
          "allele": "BB",
          "population": "CHB",
          "snp": "rs6661597_T",
          "value": 17
         },
         {
          "allele": "AB",
          "population": "ASW",
          "snp": "rs2257182_C",
          "value": 41
         },
         {
          "allele": "AA",
          "population": "ASW",
          "snp": "rs2257182_C",
          "value": 10
         },
         {
          "allele": "BB",
          "population": "ASW",
          "snp": "rs2257182_C",
          "value": 36
         },
         {
          "allele": "AB",
          "population": "CEU",
          "snp": "rs2257182_C",
          "value": 76
         },
         {
          "allele": "AA",
          "population": "CEU",
          "snp": "rs2257182_C",
          "value": 69
         },
         {
          "allele": "BB",
          "population": "CEU",
          "snp": "rs2257182_C",
          "value": 20
         },
         {
          "allele": "AB",
          "population": "CHB",
          "snp": "rs2257182_C",
          "value": 62
         },
         {
          "allele": "AA",
          "population": "CHB",
          "snp": "rs2257182_C",
          "value": 50
         },
         {
          "allele": "BB",
          "population": "CHB",
          "snp": "rs2257182_C",
          "value": 25
         },
         {
          "allele": "AB",
          "population": "ASW",
          "snp": "rs12045693_A",
          "value": 48
         },
         {
          "allele": "AA",
          "population": "ASW",
          "snp": "rs12045693_A",
          "value": 22
         },
         {
          "allele": "BB",
          "population": "ASW",
          "snp": "rs12045693_A",
          "value": 17
         },
         {
          "allele": "AB",
          "population": "CEU",
          "snp": "rs12045693_A",
          "value": 77
         },
         {
          "allele": "AA",
          "population": "CEU",
          "snp": "rs12045693_A",
          "value": 62
         },
         {
          "allele": "BB",
          "population": "CEU",
          "snp": "rs12045693_A",
          "value": 26
         },
         {
          "allele": "AB",
          "population": "CHB",
          "snp": "rs12045693_A",
          "value": 75
         },
         {
          "allele": "AA",
          "population": "CHB",
          "snp": "rs12045693_A",
          "value": 23
         },
         {
          "allele": "BB",
          "population": "CHB",
          "snp": "rs12045693_A",
          "value": 39
         },
         {
          "allele": "AB",
          "population": "ASW",
          "snp": "rs2843142_A",
          "value": 28
         },
         {
          "allele": "AA",
          "population": "ASW",
          "snp": "rs2843142_A",
          "value": 49
         },
         {
          "allele": "BB",
          "population": "ASW",
          "snp": "rs2843142_A",
          "value": 10
         },
         {
          "allele": "AB",
          "population": "CEU",
          "snp": "rs2843142_A",
          "value": 81
         },
         {
          "allele": "AA",
          "population": "CEU",
          "snp": "rs2843142_A",
          "value": 53
         },
         {
          "allele": "BB",
          "population": "CEU",
          "snp": "rs2843142_A",
          "value": 31
         },
         {
          "allele": "AB",
          "population": "CHB",
          "snp": "rs2843142_A",
          "value": 78
         },
         {
          "allele": "AA",
          "population": "CHB",
          "snp": "rs2843142_A",
          "value": 29
         },
         {
          "allele": "BB",
          "population": "CHB",
          "snp": "rs2843142_A",
          "value": 30
         },
         {
          "allele": "AB",
          "population": "ASW",
          "snp": "rs2840528_A",
          "value": 35
         },
         {
          "allele": "AA",
          "population": "ASW",
          "snp": "rs2840528_A",
          "value": 39
         },
         {
          "allele": "BB",
          "population": "ASW",
          "snp": "rs2840528_A",
          "value": 13
         },
         {
          "allele": "AB",
          "population": "CEU",
          "snp": "rs2840528_A",
          "value": 92
         },
         {
          "allele": "AA",
          "population": "CEU",
          "snp": "rs2840528_A",
          "value": 35
         },
         {
          "allele": "BB",
          "population": "CEU",
          "snp": "rs2840528_A",
          "value": 38
         },
         {
          "allele": "AB",
          "population": "CHB",
          "snp": "rs2840528_A",
          "value": 63
         },
         {
          "allele": "AA",
          "population": "CHB",
          "snp": "rs2840528_A",
          "value": 28
         },
         {
          "allele": "BB",
          "population": "CHB",
          "snp": "rs2840528_A",
          "value": 46
         }
        ]
       },
       "encoding": {
        "color": {
         "field": "allele",
         "scale": {
          "range": [
           "#96ceb4",
           "#ffcc5c",
           "#ff6f69"
          ]
         },
         "type": "nominal"
        },
        "column": {
         "field": "snp",
         "sort": [
          "rs9442373_C",
          "rs1571150_A",
          "rs4074196_C",
          "rs2748986_G",
          "rs28508199_G",
          "rs6661597_T",
          "rs2257182_C",
          "rs12045693_A",
          "rs2843142_A",
          "rs2840528_A"
         ],
         "title": null,
         "type": "nominal"
        },
        "x": {
         "field": "population",
         "title": null,
         "type": "nominal"
        },
        "y": {
         "axis": {
          "grid": false,
          "title": null
         },
         "field": "value",
         "stack": "normalize",
         "type": "quantitative"
        }
       },
       "mark": "bar"
      },
      "image/png": "[encoded data removed]",
      "text/plain": [
       "<VegaLite 3 object>\n",
       "\n",
       "If you see this message, it means the renderer has not been properly enabled\n",
       "for the frontend that you are using. For more information, see\n",
       "https://altair-viz.github.io/user_guide/troubleshooting.html\n"
      ]
     },
     "execution_count": 11,
     "metadata": {},
     "output_type": "execute_result"
    }
   ],
   "source": [
    "alt.Chart(final).mark_bar().encode(\n",
    "    x=alt.X('population:N', title=None),\n",
    "    y=alt.Y('value:Q', axis=alt.Axis(grid=False, title=None), stack='normalize'),\n",
    "    column=alt.Column('snp:N', title=None, sort=list(df.columns[1:11])),\n",
    "    color=alt.Color('allele:N', scale=alt.Scale(range=['#96ceb4', '#ffcc5c','#ff6f69']))\n",
    ").configure_view(\n",
    "    strokeOpacity=0\n",
    ")"
   ]
  },
  {
   "cell_type": "markdown",
   "metadata": {},
   "source": [
    "***"
   ]
  },
  {
   "cell_type": "markdown",
   "metadata": {},
   "source": [
    "df.iloc[:10, :10].to_latex()"
   ]
  }
 ],
 "metadata": {
  "kernelspec": {
   "display_name": "Python 3",
   "language": "python",
   "name": "python3"
  },
  "language_info": {
   "codemirror_mode": {
    "name": "ipython",
    "version": 3
   },
   "file_extension": ".py",
   "mimetype": "text/x-python",
   "name": "python",
   "nbconvert_exporter": "python",
   "pygments_lexer": "ipython3",
   "version": "3.6.8"
  }
 },
 "nbformat": 4,
 "nbformat_minor": 4
}
